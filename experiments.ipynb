{
 "cells": [
  {
   "cell_type": "code",
   "execution_count": 1,
   "metadata": {
    "is_executing": true
   },
   "outputs": [
    {
     "name": "stderr",
     "output_type": "stream",
     "text": [
      "2024-02-21 18:36:45.316845: I external/local_tsl/tsl/cuda/cudart_stub.cc:31] Could not find cuda drivers on your machine, GPU will not be used.\n",
      "2024-02-21 18:36:45.359200: E external/local_xla/xla/stream_executor/cuda/cuda_dnn.cc:9261] Unable to register cuDNN factory: Attempting to register factory for plugin cuDNN when one has already been registered\n",
      "2024-02-21 18:36:45.359234: E external/local_xla/xla/stream_executor/cuda/cuda_fft.cc:607] Unable to register cuFFT factory: Attempting to register factory for plugin cuFFT when one has already been registered\n",
      "2024-02-21 18:36:45.360325: E external/local_xla/xla/stream_executor/cuda/cuda_blas.cc:1515] Unable to register cuBLAS factory: Attempting to register factory for plugin cuBLAS when one has already been registered\n",
      "2024-02-21 18:36:45.367640: I external/local_tsl/tsl/cuda/cudart_stub.cc:31] Could not find cuda drivers on your machine, GPU will not be used.\n",
      "2024-02-21 18:36:45.368100: I tensorflow/core/platform/cpu_feature_guard.cc:182] This TensorFlow binary is optimized to use available CPU instructions in performance-critical operations.\n",
      "To enable the following instructions: AVX2 FMA, in other operations, rebuild TensorFlow with the appropriate compiler flags.\n",
      "2024-02-21 18:36:47.290649: W tensorflow/compiler/tf2tensorrt/utils/py_utils.cc:38] TF-TRT Warning: Could not find TensorRT\n"
     ]
    },
    {
     "name": "stdout",
     "output_type": "stream",
     "text": [
      "WARNING:tensorflow:From /home/etaylor/.conda/envs/drl_ass2/lib/python3.9/site-packages/tensorflow/python/compat/v2_compat.py:108: disable_resource_variables (from tensorflow.python.ops.variable_scope) is deprecated and will be removed in a future version.\n",
      "Instructions for updating:\n",
      "non-resource variables are not supported in the long term\n",
      "tf_ver:2.15.0\n",
      "tf_ver:2.15.0\n"
     ]
    }
   ],
   "source": [
    "import src.game_runners as gr\n",
    "import pickle\n",
    "import numpy as np\n",
    "import matplotlib.pyplot as plt\n",
    "number_of_experiments = 10"
   ]
  },
  {
   "cell_type": "code",
   "execution_count": 2,
   "metadata": {},
   "outputs": [
    {
     "name": "stderr",
     "output_type": "stream",
     "text": [
      "2024-02-21 18:36:50.301825: W tensorflow/core/common_runtime/gpu/gpu_device.cc:2256] Cannot dlopen some GPU libraries. Please make sure the missing libraries mentioned above are installed properly if you would like to use GPU. Follow the guide at https://www.tensorflow.org/install/gpu for how to download and setup the required libraries for your platform.\n",
      "Skipping registering GPU devices...\n",
      "2024-02-21 18:36:50.308270: I tensorflow/compiler/mlir/mlir_graph_optimization_pass.cc:388] MLIR V1 optimization pass is not enabled\n",
      " 13%|█▎        | 629/5000 [02:34<17:55,  4.06it/s]\n",
      " 21%|██▏       | 1074/5000 [06:15<22:50,  2.86it/s]\n",
      " 15%|█▍        | 733/5000 [03:08<18:16,  3.89it/s]\n",
      " 20%|█▉        | 976/5000 [04:58<20:32,  3.26it/s]\n",
      " 22%|██▏       | 1075/5000 [05:48<21:13,  3.08it/s]\n",
      " 51%|█████▏    | 2571/5000 [22:37<21:22,  1.89it/s]\n",
      " 20%|█▉        | 977/5000 [04:17<17:39,  3.80it/s]\n",
      " 17%|█▋        | 831/5000 [05:06<25:37,  2.71it/s]\n",
      " 21%|██        | 1039/5000 [05:04<19:20,  3.41it/s]\n",
      " 28%|██▊       | 1422/5000 [11:31<29:00,  2.06it/s]\n"
     ]
    },
    {
     "ename": "FileNotFoundError",
     "evalue": "[Errno 2] No such file or directory: '../result_score/policy_actor_critic_results_big_net.pkl'",
     "output_type": "error",
     "traceback": [
      "\u001B[0;31m---------------------------------------------------------------------------\u001B[0m",
      "\u001B[0;31mFileNotFoundError\u001B[0m                         Traceback (most recent call last)",
      "Cell \u001B[0;32mIn[2], line 7\u001B[0m\n\u001B[1;32m      3\u001B[0m \u001B[38;5;28;01mfor\u001B[39;00m i \u001B[38;5;129;01min\u001B[39;00m \u001B[38;5;28mrange\u001B[39m(number_of_experiments):\n\u001B[1;32m      4\u001B[0m     policy_actor_critic_results_big_net\u001B[38;5;241m.\u001B[39mappend(gr\u001B[38;5;241m.\u001B[39mrun_actor_critic(is_big\u001B[38;5;241m=\u001B[39m\u001B[38;5;28;01mTrue\u001B[39;00m))\n\u001B[0;32m----> 7\u001B[0m \u001B[38;5;28;01mwith\u001B[39;00m \u001B[38;5;28;43mopen\u001B[39;49m\u001B[43m(\u001B[49m\u001B[38;5;124;43m'\u001B[39;49m\u001B[38;5;124;43m../result_score/policy_actor_critic_results_big_net.pkl\u001B[39;49m\u001B[38;5;124;43m'\u001B[39;49m\u001B[43m,\u001B[49m\u001B[43m \u001B[49m\u001B[38;5;124;43m'\u001B[39;49m\u001B[38;5;124;43mrb\u001B[39;49m\u001B[38;5;124;43m'\u001B[39;49m\u001B[43m)\u001B[49m \u001B[38;5;28;01mas\u001B[39;00m f:\n\u001B[1;32m      8\u001B[0m     policy_actor_critic_results_big_net \u001B[38;5;241m=\u001B[39m pickle\u001B[38;5;241m.\u001B[39mload(f)\n",
      "File \u001B[0;32m~/.conda/envs/drl_ass2/lib/python3.9/site-packages/IPython/core/interactiveshell.py:310\u001B[0m, in \u001B[0;36m_modified_open\u001B[0;34m(file, *args, **kwargs)\u001B[0m\n\u001B[1;32m    303\u001B[0m \u001B[38;5;28;01mif\u001B[39;00m file \u001B[38;5;129;01min\u001B[39;00m {\u001B[38;5;241m0\u001B[39m, \u001B[38;5;241m1\u001B[39m, \u001B[38;5;241m2\u001B[39m}:\n\u001B[1;32m    304\u001B[0m     \u001B[38;5;28;01mraise\u001B[39;00m \u001B[38;5;167;01mValueError\u001B[39;00m(\n\u001B[1;32m    305\u001B[0m         \u001B[38;5;124mf\u001B[39m\u001B[38;5;124m\"\u001B[39m\u001B[38;5;124mIPython won\u001B[39m\u001B[38;5;124m'\u001B[39m\u001B[38;5;124mt let you open fd=\u001B[39m\u001B[38;5;132;01m{\u001B[39;00mfile\u001B[38;5;132;01m}\u001B[39;00m\u001B[38;5;124m by default \u001B[39m\u001B[38;5;124m\"\u001B[39m\n\u001B[1;32m    306\u001B[0m         \u001B[38;5;124m\"\u001B[39m\u001B[38;5;124mas it is likely to crash IPython. If you know what you are doing, \u001B[39m\u001B[38;5;124m\"\u001B[39m\n\u001B[1;32m    307\u001B[0m         \u001B[38;5;124m\"\u001B[39m\u001B[38;5;124myou can use builtins\u001B[39m\u001B[38;5;124m'\u001B[39m\u001B[38;5;124m open.\u001B[39m\u001B[38;5;124m\"\u001B[39m\n\u001B[1;32m    308\u001B[0m     )\n\u001B[0;32m--> 310\u001B[0m \u001B[38;5;28;01mreturn\u001B[39;00m \u001B[43mio_open\u001B[49m\u001B[43m(\u001B[49m\u001B[43mfile\u001B[49m\u001B[43m,\u001B[49m\u001B[43m \u001B[49m\u001B[38;5;241;43m*\u001B[39;49m\u001B[43margs\u001B[49m\u001B[43m,\u001B[49m\u001B[43m \u001B[49m\u001B[38;5;241;43m*\u001B[39;49m\u001B[38;5;241;43m*\u001B[39;49m\u001B[43mkwargs\u001B[49m\u001B[43m)\u001B[49m\n",
      "\u001B[0;31mFileNotFoundError\u001B[0m: [Errno 2] No such file or directory: '../result_score/policy_actor_critic_results_big_net.pkl'"
     ]
    }
   ],
   "source": [
    "# Run the experiments for actor critic with bigger net \n",
    "policy_actor_critic_results_big_net = []\n",
    "for i in range(number_of_experiments):\n",
    "    policy_actor_critic_results_big_net.append(gr.run_actor_critic(is_big=True))\n",
    "    \n",
    "with open('result_score/policy_actor_critic_results_big_net.pkl', 'wb') as f:\n",
    "    pickle.dump(policy_actor_critic_results_big_net, f)\n"
   ]
  },
  {
   "cell_type": "code",
   "execution_count": 8,
   "metadata": {},
   "outputs": [
    {
     "name": "stderr",
     "output_type": "stream",
     "text": [
      " 21%|██▏       | 1070/5000 [02:49<10:21,  6.32it/s]\n",
      " 10%|▉         | 486/5000 [01:11<11:08,  6.75it/s]\n",
      " 21%|██▏       | 1070/5000 [03:27<12:43,  5.14it/s]\n",
      " 15%|█▌        | 764/5000 [02:02<11:18,  6.24it/s]\n",
      " 15%|█▍        | 743/5000 [02:17<13:07,  5.40it/s]\n",
      " 15%|█▍        | 732/5000 [02:11<12:45,  5.58it/s]\n",
      " 21%|██        | 1059/5000 [04:00<14:54,  4.40it/s]\n",
      " 32%|███▏      | 1603/5000 [06:02<12:48,  4.42it/s]\n",
      " 17%|█▋        | 834/5000 [02:35<12:56,  5.37it/s]\n",
      " 19%|█▉        | 960/5000 [02:54<12:14,  5.50it/s]\n"
     ]
    },
    {
     "ename": "UnsupportedOperation",
     "evalue": "write",
     "output_type": "error",
     "traceback": [
      "\u001B[0;31m---------------------------------------------------------------------------\u001B[0m",
      "\u001B[0;31mUnsupportedOperation\u001B[0m                      Traceback (most recent call last)",
      "Cell \u001B[0;32mIn[8], line 7\u001B[0m\n\u001B[1;32m      4\u001B[0m     policy_results\u001B[38;5;241m.\u001B[39mappend(gr\u001B[38;5;241m.\u001B[39mrun())\n\u001B[1;32m      6\u001B[0m \u001B[38;5;28;01mwith\u001B[39;00m \u001B[38;5;28mopen\u001B[39m(\u001B[38;5;124m'\u001B[39m\u001B[38;5;124mresult_score/policy_results.pkl\u001B[39m\u001B[38;5;124m'\u001B[39m, \u001B[38;5;124m'\u001B[39m\u001B[38;5;124mrb\u001B[39m\u001B[38;5;124m'\u001B[39m) \u001B[38;5;28;01mas\u001B[39;00m f:\n\u001B[0;32m----> 7\u001B[0m     \u001B[43mpickle\u001B[49m\u001B[38;5;241;43m.\u001B[39;49m\u001B[43mdump\u001B[49m\u001B[43m(\u001B[49m\u001B[43mpolicy_results\u001B[49m\u001B[43m,\u001B[49m\u001B[43m \u001B[49m\u001B[43mf\u001B[49m\u001B[43m)\u001B[49m\n",
      "\u001B[0;31mUnsupportedOperation\u001B[0m: write"
     ]
    }
   ],
   "source": [
    "# Run the experiments for basic REINFORCE\n",
    "policy_results = []\n",
    "for i in range(number_of_experiments):\n",
    "    policy_results.append(gr.run())\n",
    "    \n",
    "with open('result_score/policy_results.pkl', 'wb') as f:\n",
    "    pickle.dump(policy_results, f)"
   ]
  },
  {
   "cell_type": "code",
   "execution_count": 10,
   "metadata": {
    "ExecuteTime": {
     "end_time": "2024-02-17T13:42:11.634723500Z",
     "start_time": "2024-02-17T13:34:41.117650500Z"
    }
   },
   "outputs": [
    {
     "name": "stderr",
     "output_type": "stream",
     "text": [
      " 13%|█▎        | 661/5000 [03:31<23:06,  3.13it/s]\n",
      " 12%|█▏        | 597/5000 [03:04<22:42,  3.23it/s]\n",
      " 11%|█▏        | 566/5000 [02:58<23:16,  3.17it/s]\n",
      " 15%|█▍        | 748/5000 [04:19<24:34,  2.88it/s]\n",
      " 16%|█▌        | 810/5000 [05:02<26:05,  2.68it/s]\n",
      "  8%|▊         | 408/5000 [01:36<18:10,  4.21it/s]\n",
      " 10%|█         | 514/5000 [02:27<21:28,  3.48it/s]\n",
      " 13%|█▎        | 633/5000 [03:29<24:02,  3.03it/s]\n",
      " 15%|█▌        | 750/5000 [04:57<28:07,  2.52it/s]\n",
      " 11%|█         | 531/5000 [02:40<22:26,  3.32it/s]\n"
     ]
    }
   ],
   "source": [
    "# Run the experiments for REINFORCE with baseline\n",
    "policy_baseline_results = []\n",
    "for i in range(number_of_experiments):\n",
    "    policy_baseline_results.append(gr.run_with_baseline())\n",
    "    \n",
    "with open('result_score/policy_baseline_results.pkl', 'wb') as f:\n",
    "    pickle.dump(policy_baseline_results, f)    "
   ]
  },
  {
   "cell_type": "code",
   "execution_count": 11,
   "metadata": {},
   "outputs": [
    {
     "name": "stderr",
     "output_type": "stream",
     "text": [
      " 41%|████      | 2052/5000 [04:51<06:59,  7.03it/s]\n",
      " 37%|███▋      | 1851/5000 [04:19<07:21,  7.14it/s]\n",
      " 58%|█████▊    | 2907/5000 [07:57<05:43,  6.09it/s]\n",
      " 47%|████▋     | 2363/5000 [06:45<07:32,  5.83it/s]\n",
      " 50%|█████     | 2509/5000 [05:13<05:11,  8.01it/s]\n",
      " 74%|███████▍  | 3698/5000 [11:36<04:05,  5.31it/s]\n",
      " 59%|█████▉    | 2964/5000 [07:08<04:54,  6.91it/s]\n",
      " 52%|█████▏    | 2605/5000 [05:04<04:39,  8.56it/s]\n",
      " 62%|██████▏   | 3111/5000 [07:23<04:29,  7.02it/s]\n",
      " 43%|████▎     | 2150/5000 [05:38<07:28,  6.35it/s]\n"
     ]
    }
   ],
   "source": [
    "# Run the experiments for actor critic with smaller net \n",
    "policy_actor_critic_results = []\n",
    "for i in range(number_of_experiments):\n",
    "    policy_actor_critic_results.append(gr.run_actor_critic())\n",
    "    \n",
    "with open('result_score/policy_actor_critic_results.pkl', 'wb') as f:\n",
    "    pickle.dump(policy_actor_critic_results, f)"
   ]
  }
 ],
 "metadata": {
  "kernelspec": {
   "display_name": "drl_ass2",
   "language": "python",
   "name": "python3"
  },
  "language_info": {
   "codemirror_mode": {
    "name": "ipython",
    "version": 3
   },
   "file_extension": ".py",
   "mimetype": "text/x-python",
   "name": "python",
   "nbconvert_exporter": "python",
   "pygments_lexer": "ipython3",
   "version": "3.9.0"
  }
 },
 "nbformat": 4,
 "nbformat_minor": 2
}
