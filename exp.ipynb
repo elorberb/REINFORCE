{
 "cells": [
  {
   "cell_type": "code",
   "execution_count": 3,
   "id": "initial_id",
   "metadata": {
    "collapsed": true,
    "ExecuteTime": {
     "end_time": "2024-02-16T16:37:13.483920300Z",
     "start_time": "2024-02-16T16:37:12.838618600Z"
    }
   },
   "outputs": [],
   "source": [
    "import code.game_runners as gr\n",
    "import pickle\n",
    "import numpy as np\n",
    "import matplotlib.pyplot as plt"
   ]
  },
  {
   "cell_type": "code",
   "execution_count": 4,
   "outputs": [
    {
     "name": "stdout",
     "output_type": "stream",
     "text": [
      "WARNING:tensorflow:From C:\\Users\\elorberb\\PycharmProjects\\BGU projects\\DRL\\drl_ass2\\code\\networks.py:40: The name tf.train.AdamOptimizer is deprecated. Please use tf.compat.v1.train.AdamOptimizer instead.\n"
     ]
    },
    {
     "name": "stderr",
     "output_type": "stream",
     "text": [
      " 18%|█▊        | 890/5000 [04:40<21:35,  3.17it/s]  \n",
      " 37%|███▋      | 1828/5000 [09:08<15:51,  3.33it/s] \n",
      " 19%|█▉        | 945/5000 [05:01<21:34,  3.13it/s]  \n"
     ]
    }
   ],
   "source": [
    "number_of_experiments = 3\n",
    "policy_results = []\n",
    "for i in range(number_of_experiments):\n",
    "    policy_results.append(gr.run())"
   ],
   "metadata": {
    "collapsed": false,
    "ExecuteTime": {
     "end_time": "2024-02-16T16:56:07.988792300Z",
     "start_time": "2024-02-16T16:37:15.779604800Z"
    }
   },
   "id": "52043cb958f4f10a"
  },
  {
   "cell_type": "code",
   "execution_count": null,
   "outputs": [],
   "source": [
    "policy_baseline_results = []\n",
    "for i in range(number_of_experiments):\n",
    "    policy_baseline_results.append(gr.run_with_baseline())"
   ],
   "metadata": {
    "collapsed": false
   },
   "id": "b3c0bca0457dbc3e"
  },
  {
   "cell_type": "code",
   "execution_count": null,
   "outputs": [],
   "source": [
    "policy_actor_critic_results = []\n",
    "for i in range(number_of_experiments):\n",
    "    policy_actor_critic_results.append(gr.run_actor_critic())"
   ],
   "metadata": {
    "collapsed": false
   },
   "id": "36c7da1539bc0a76"
  }
 ],
 "metadata": {
  "kernelspec": {
   "name": "drl_ass2",
   "language": "python",
   "display_name": "Python (drl_ass2)"
  },
  "language_info": {
   "codemirror_mode": {
    "name": "ipython",
    "version": 2
   },
   "file_extension": ".py",
   "mimetype": "text/x-python",
   "name": "python",
   "nbconvert_exporter": "python",
   "pygments_lexer": "ipython2",
   "version": "2.7.6"
  }
 },
 "nbformat": 4,
 "nbformat_minor": 5
}
